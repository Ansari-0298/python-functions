{
 "cells": [
  {
   "cell_type": "code",
   "execution_count": 1,
   "id": "4e0fa473",
   "metadata": {},
   "outputs": [],
   "source": [
    "#functions is a book of code which performs a specific task"
   ]
  },
  {
   "cell_type": "code",
   "execution_count": 2,
   "id": "58bd746e",
   "metadata": {},
   "outputs": [],
   "source": [
    "def hello():\n",
    "    print(\"hello world\")"
   ]
  },
  {
   "cell_type": "code",
   "execution_count": 3,
   "id": "264e8232",
   "metadata": {},
   "outputs": [
    {
     "name": "stdout",
     "output_type": "stream",
     "text": [
      "hello world\n"
     ]
    }
   ],
   "source": [
    "hello()"
   ]
  },
  {
   "cell_type": "code",
   "execution_count": 4,
   "id": "72435554",
   "metadata": {},
   "outputs": [],
   "source": [
    "def add_10(x):\n",
    "    return x+10"
   ]
  },
  {
   "cell_type": "code",
   "execution_count": 10,
   "id": "e243c9ab",
   "metadata": {},
   "outputs": [
    {
     "data": {
      "text/plain": [
       "15"
      ]
     },
     "execution_count": 10,
     "metadata": {},
     "output_type": "execute_result"
    }
   ],
   "source": [
    "add_10(5)"
   ]
  },
  {
   "cell_type": "code",
   "execution_count": 6,
   "id": "f65e548b",
   "metadata": {},
   "outputs": [],
   "source": [
    "def mul_20(y):\n",
    "    return y*2"
   ]
  },
  {
   "cell_type": "code",
   "execution_count": 7,
   "id": "f5e9dfac",
   "metadata": {},
   "outputs": [
    {
     "data": {
      "text/plain": [
       "14"
      ]
     },
     "execution_count": 7,
     "metadata": {},
     "output_type": "execute_result"
    }
   ],
   "source": [
    "mul_20(7)"
   ]
  },
  {
   "cell_type": "code",
   "execution_count": 8,
   "id": "3926ab59",
   "metadata": {},
   "outputs": [],
   "source": [
    "def sub_45(x):\n",
    "    return x-3"
   ]
  },
  {
   "cell_type": "code",
   "execution_count": 9,
   "id": "fad37209",
   "metadata": {},
   "outputs": [
    {
     "data": {
      "text/plain": [
       "1"
      ]
     },
     "execution_count": 9,
     "metadata": {},
     "output_type": "execute_result"
    }
   ],
   "source": [
    "sub_45(4)"
   ]
  },
  {
   "cell_type": "code",
   "execution_count": 11,
   "id": "cd0cb32f",
   "metadata": {},
   "outputs": [],
   "source": [
    "def hello():\n",
    "    print(\"hello world\")"
   ]
  },
  {
   "cell_type": "code",
   "execution_count": 12,
   "id": "df86b177",
   "metadata": {},
   "outputs": [
    {
     "name": "stdout",
     "output_type": "stream",
     "text": [
      "hello world\n"
     ]
    }
   ],
   "source": [
    "hello()"
   ]
  },
  {
   "cell_type": "code",
   "execution_count": 17,
   "id": "f4ec7223",
   "metadata": {},
   "outputs": [],
   "source": [
    "def add_10(x):\n",
    "    return x+5"
   ]
  },
  {
   "cell_type": "code",
   "execution_count": 18,
   "id": "5c09a971",
   "metadata": {},
   "outputs": [
    {
     "data": {
      "text/plain": [
       "10"
      ]
     },
     "execution_count": 18,
     "metadata": {},
     "output_type": "execute_result"
    }
   ],
   "source": [
    "add_10(5)"
   ]
  },
  {
   "cell_type": "code",
   "execution_count": 23,
   "id": "b9a417eb",
   "metadata": {},
   "outputs": [],
   "source": [
    "def odd_even(x):\n",
    "    if x%2==0:\n",
    "        print(x,\"x is even\")\n",
    "    else:\n",
    "        print(x,\"x is odd\")"
   ]
  },
  {
   "cell_type": "code",
   "execution_count": 29,
   "id": "974a244c",
   "metadata": {},
   "outputs": [
    {
     "name": "stdout",
     "output_type": "stream",
     "text": [
      "5 x is odd\n"
     ]
    }
   ],
   "source": [
    "odd_even(5)"
   ]
  },
  {
   "cell_type": "code",
   "execution_count": 3,
   "id": "74303aee",
   "metadata": {},
   "outputs": [],
   "source": [
    "def odd_even(x):\n",
    "    if x%2==0:\n",
    "        print(x, \"is even\")\n",
    "    else:\n",
    "        print(x,\" is odd\")"
   ]
  },
  {
   "cell_type": "code",
   "execution_count": 4,
   "id": "4229e32f",
   "metadata": {},
   "outputs": [
    {
     "name": "stdout",
     "output_type": "stream",
     "text": [
      "5  is odd\n"
     ]
    }
   ],
   "source": [
    "odd_even(5)"
   ]
  },
  {
   "cell_type": "code",
   "execution_count": 6,
   "id": "fb3a9370",
   "metadata": {},
   "outputs": [],
   "source": [
    "def odd_even(x):\n",
    "    if x%2==0:\n",
    "        print(x,\"is even\")\n",
    "    else:\n",
    "        print(x,\"is odd\")"
   ]
  },
  {
   "cell_type": "code",
   "execution_count": 8,
   "id": "1a68a528",
   "metadata": {},
   "outputs": [
    {
     "name": "stdout",
     "output_type": "stream",
     "text": [
      "2 is even\n"
     ]
    }
   ],
   "source": [
    "odd_even(2)"
   ]
  },
  {
   "cell_type": "code",
   "execution_count": 9,
   "id": "3dc47832",
   "metadata": {},
   "outputs": [],
   "source": [
    "#lambda"
   ]
  },
  {
   "cell_type": "code",
   "execution_count": 17,
   "id": "323e4272",
   "metadata": {},
   "outputs": [
    {
     "data": {
      "text/plain": [
       "182940976656"
      ]
     },
     "execution_count": 17,
     "metadata": {},
     "output_type": "execute_result"
    }
   ],
   "source": [
    "g = lambda x: x*x*x*x\n",
    "g(654)"
   ]
  },
  {
   "cell_type": "code",
   "execution_count": 18,
   "id": "c11106f4",
   "metadata": {},
   "outputs": [],
   "source": [
    "#lambda with filters"
   ]
  },
  {
   "cell_type": "code",
   "execution_count": 24,
   "id": "8310b71a",
   "metadata": {},
   "outputs": [],
   "source": [
    "l1 = [45,56,12,63,45,12,42,89,62,53]\n",
    "final_list=list(filter(lambda x: (x%2==0),l1))"
   ]
  },
  {
   "cell_type": "code",
   "execution_count": 22,
   "id": "b0cc547a",
   "metadata": {},
   "outputs": [
    {
     "data": {
      "text/plain": [
       "[56, 12, 12, 42, 62]"
      ]
     },
     "execution_count": 22,
     "metadata": {},
     "output_type": "execute_result"
    }
   ],
   "source": [
    "final_list"
   ]
  },
  {
   "cell_type": "code",
   "execution_count": 25,
   "id": "d9b0e365",
   "metadata": {},
   "outputs": [],
   "source": [
    "#lambda with map"
   ]
  },
  {
   "cell_type": "code",
   "execution_count": 26,
   "id": "f3640843",
   "metadata": {},
   "outputs": [],
   "source": [
    "l1=[1,2,3,4,5,6,7,8,9]\n",
    "list_final=list(map(lambda x: x*4,l1))"
   ]
  },
  {
   "cell_type": "code",
   "execution_count": 27,
   "id": "18f72fbf",
   "metadata": {},
   "outputs": [
    {
     "data": {
      "text/plain": [
       "[4, 8, 12, 16, 20, 24, 28, 32, 36]"
      ]
     },
     "execution_count": 27,
     "metadata": {},
     "output_type": "execute_result"
    }
   ],
   "source": [
    "list_final"
   ]
  },
  {
   "cell_type": "code",
   "execution_count": 29,
   "id": "691dce32",
   "metadata": {},
   "outputs": [],
   "source": [
    "l1=[554,465,4,46,646,464,]\n",
    "list_final_new=list(map(lambda x: x*3,l1))"
   ]
  },
  {
   "cell_type": "code",
   "execution_count": 30,
   "id": "84b849e0",
   "metadata": {},
   "outputs": [
    {
     "data": {
      "text/plain": [
       "[1662, 1395, 12, 138, 1938, 1392]"
      ]
     },
     "execution_count": 30,
     "metadata": {},
     "output_type": "execute_result"
    }
   ],
   "source": [
    "list_final_new"
   ]
  },
  {
   "cell_type": "code",
   "execution_count": 31,
   "id": "0f734e9d",
   "metadata": {},
   "outputs": [],
   "source": [
    "#lambda with reduce"
   ]
  },
  {
   "cell_type": "code",
   "execution_count": 33,
   "id": "0d669f81",
   "metadata": {},
   "outputs": [],
   "source": [
    "from functools import reduce"
   ]
  },
  {
   "cell_type": "code",
   "execution_count": 37,
   "id": "8868ffe5",
   "metadata": {},
   "outputs": [],
   "source": [
    "sum=reduce(lambda x,y:x*y,l1)"
   ]
  },
  {
   "cell_type": "code",
   "execution_count": 38,
   "id": "d5e5266d",
   "metadata": {},
   "outputs": [
    {
     "data": {
      "text/plain": [
       "14207937538560"
      ]
     },
     "execution_count": 38,
     "metadata": {},
     "output_type": "execute_result"
    }
   ],
   "source": [
    "sum"
   ]
  },
  {
   "cell_type": "code",
   "execution_count": 39,
   "id": "00ab9ffe",
   "metadata": {},
   "outputs": [],
   "source": [
    "sum=reduce(lambda x,y:x|y,l1)"
   ]
  },
  {
   "cell_type": "code",
   "execution_count": 40,
   "id": "03cacf01",
   "metadata": {},
   "outputs": [
    {
     "data": {
      "text/plain": [
       "1023"
      ]
     },
     "execution_count": 40,
     "metadata": {},
     "output_type": "execute_result"
    }
   ],
   "source": [
    "sum"
   ]
  },
  {
   "cell_type": "code",
   "execution_count": 1,
   "id": "b2973727",
   "metadata": {},
   "outputs": [],
   "source": [
    "#def practice"
   ]
  },
  {
   "cell_type": "code",
   "execution_count": 2,
   "id": "4b298b75",
   "metadata": {},
   "outputs": [],
   "source": [
    "def hello():\n",
    "    print(\"hello world\")"
   ]
  },
  {
   "cell_type": "code",
   "execution_count": 3,
   "id": "2ae34e7e",
   "metadata": {},
   "outputs": [
    {
     "name": "stdout",
     "output_type": "stream",
     "text": [
      "hello world\n"
     ]
    }
   ],
   "source": [
    "hello()"
   ]
  },
  {
   "cell_type": "code",
   "execution_count": 7,
   "id": "1c010474",
   "metadata": {},
   "outputs": [],
   "source": [
    "def odd_even(x):\n",
    "    if x%2==0:\n",
    "        print(x,\"x is even\")\n",
    "    else:\n",
    "        print(x,\"x is odd\")"
   ]
  },
  {
   "cell_type": "code",
   "execution_count": 8,
   "id": "d53dd975",
   "metadata": {},
   "outputs": [
    {
     "name": "stdout",
     "output_type": "stream",
     "text": [
      "5 x is odd\n"
     ]
    }
   ],
   "source": [
    "odd_even(5)"
   ]
  },
  {
   "cell_type": "code",
   "execution_count": 9,
   "id": "de6e61f6",
   "metadata": {},
   "outputs": [
    {
     "name": "stdout",
     "output_type": "stream",
     "text": [
      "2 x is even\n"
     ]
    }
   ],
   "source": [
    "odd_even(2)"
   ]
  },
  {
   "cell_type": "code",
   "execution_count": 10,
   "id": "c35f7c51",
   "metadata": {},
   "outputs": [],
   "source": [
    "#lambda"
   ]
  },
  {
   "cell_type": "code",
   "execution_count": 12,
   "id": "fd11526e",
   "metadata": {},
   "outputs": [
    {
     "data": {
      "text/plain": [
       "183250432"
      ]
     },
     "execution_count": 12,
     "metadata": {},
     "output_type": "execute_result"
    }
   ],
   "source": [
    "g=lambda x: x*x*x\n",
    "g(568)"
   ]
  },
  {
   "cell_type": "code",
   "execution_count": 25,
   "id": "dc1dccef",
   "metadata": {},
   "outputs": [],
   "source": [
    "l1=(25,45,78,69,54,5,65,89)\n",
    "new_list=list(filter(lambda x :(x%2==0),l1))"
   ]
  },
  {
   "cell_type": "code",
   "execution_count": 26,
   "id": "46288620",
   "metadata": {},
   "outputs": [
    {
     "data": {
      "text/plain": [
       "[78, 54]"
      ]
     },
     "execution_count": 26,
     "metadata": {},
     "output_type": "execute_result"
    }
   ],
   "source": [
    "new_list"
   ]
  },
  {
   "cell_type": "code",
   "execution_count": 30,
   "id": "6802fdc8",
   "metadata": {},
   "outputs": [],
   "source": [
    "l1=(56,98,54,21,65,9,78,97,79)\n",
    "second_list=list(map(lambda x: x*64,l1))"
   ]
  },
  {
   "cell_type": "code",
   "execution_count": 32,
   "id": "93defef3",
   "metadata": {},
   "outputs": [
    {
     "data": {
      "text/plain": [
       "[3584, 6272, 3456, 1344, 4160, 576, 4992, 6208, 5056]"
      ]
     },
     "execution_count": 32,
     "metadata": {},
     "output_type": "execute_result"
    }
   ],
   "source": [
    "second_list"
   ]
  },
  {
   "cell_type": "code",
   "execution_count": 34,
   "id": "49024fa5",
   "metadata": {},
   "outputs": [],
   "source": [
    "from functools import reduce\n",
    "l1=(4654,456465,54654654,54654654,4654654,)\n",
    "final_list=reduce(lambda x,y:x*y,l1)"
   ]
  },
  {
   "cell_type": "code",
   "execution_count": 35,
   "id": "256c6700",
   "metadata": {},
   "outputs": [
    {
     "data": {
      "text/plain": [
       "29537624432338611963238499441040"
      ]
     },
     "execution_count": 35,
     "metadata": {},
     "output_type": "execute_result"
    }
   ],
   "source": [
    "final_list"
   ]
  },
  {
   "cell_type": "code",
   "execution_count": 37,
   "id": "a9631b11",
   "metadata": {},
   "outputs": [],
   "source": [
    "def odd_even(x):\n",
    "    if x%2==0:\n",
    "        print(x,\"x is even\")\n",
    "    else:\n",
    "        print(x,\"x is odd\")"
   ]
  },
  {
   "cell_type": "code",
   "execution_count": 39,
   "id": "af0cad6f",
   "metadata": {},
   "outputs": [
    {
     "name": "stdout",
     "output_type": "stream",
     "text": [
      "653421654232 x is even\n"
     ]
    }
   ],
   "source": [
    "odd_even(653421654232)"
   ]
  },
  {
   "cell_type": "code",
   "execution_count": 7,
   "id": "1306a96c",
   "metadata": {},
   "outputs": [],
   "source": [
    "def odd_even(x):\n",
    "    if x%2==0:\n",
    "        print(x,\"x is even\")\n",
    "    else:\n",
    "        print(x,\"x is odd\")"
   ]
  },
  {
   "cell_type": "code",
   "execution_count": 8,
   "id": "a8ff41b6",
   "metadata": {},
   "outputs": [
    {
     "name": "stdout",
     "output_type": "stream",
     "text": [
      "5 x is odd\n"
     ]
    }
   ],
   "source": [
    "odd_even(5)"
   ]
  },
  {
   "cell_type": "code",
   "execution_count": 9,
   "id": "f222acf5",
   "metadata": {},
   "outputs": [
    {
     "name": "stdout",
     "output_type": "stream",
     "text": [
      "5454465456456456645 x is odd\n"
     ]
    }
   ],
   "source": [
    "odd_even(5454465456456456645)"
   ]
  },
  {
   "cell_type": "code",
   "execution_count": null,
   "id": "28219f8f",
   "metadata": {},
   "outputs": [],
   "source": []
  }
 ],
 "metadata": {
  "kernelspec": {
   "display_name": "Python 3",
   "language": "python",
   "name": "python3"
  },
  "language_info": {
   "codemirror_mode": {
    "name": "ipython",
    "version": 3
   },
   "file_extension": ".py",
   "mimetype": "text/x-python",
   "name": "python",
   "nbconvert_exporter": "python",
   "pygments_lexer": "ipython3",
   "version": "3.8.8"
  }
 },
 "nbformat": 4,
 "nbformat_minor": 5
}
